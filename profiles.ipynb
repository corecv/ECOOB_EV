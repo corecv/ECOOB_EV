{
 "cells": [
  {
   "cell_type": "code",
   "execution_count": null,
   "metadata": {},
   "outputs": [],
   "source": [
    "import pandas as pd\n",
    "import numpy as np\n",
    "import os\n",
    "from smart import get_smart_profiles, get_Tz\n",
    "from dumb import get_dumb_profiles\n",
    "from random import choice\n",
    "from time import time"
   ]
  },
  {
   "cell_type": "code",
   "execution_count": null,
   "metadata": {},
   "outputs": [],
   "source": [
    "def get_production_consumption(enddatetime = '2017-12-31 23:00:00'):\n",
    "    startdatetime='2017-01-01 00:00:00'\n",
    "    df = pd.read_csv(os.path.join('data','Productie en verbruik info Core.csv'), delimiter=';')\n",
    "    df.Datum = pd.to_datetime(df.Datum + ' ' + df.Tijd)\n",
    "    df.rename(columns={'Datum':'timestamp'}, inplace=True)\n",
    "    df.drop(['Tijd'], axis = 1, inplace = True)\n",
    "    df.set_index('timestamp', inplace=True)\n",
    "    df = df.asfreq('15T')\n",
    "    df.interpolate(inplace=True)\n",
    "\n",
    "    return df.loc[startdatetime:enddatetime]"
   ]
  },
  {
   "cell_type": "code",
   "execution_count": null,
   "metadata": {},
   "outputs": [],
   "source": [
    "def get_availability_profiles(df):\n",
    "\n",
    "    df_av = pd.read_excel(os.path.join('data','Laadprofielen.xlsx'), sheet_name='3. State of Charge', header=None)\n",
    "    # Select rows 4 and onwards and columns D through AA\n",
    "    df_av = df_av.iloc[3:, 3:42]\n",
    "    # Reset column names\n",
    "    df_av.columns = df_av.iloc[0]\n",
    "    df_av = df_av[1:]\n",
    "\n",
    "    for column in df_av.columns:\n",
    "        col_year = list(df_av[column])*52 + list(df_av[column])[:96]\n",
    "        df[column] = col_year[:len(df)]\n",
    "\n",
    "    return df"
   ]
  },
  {
   "cell_type": "code",
   "execution_count": null,
   "metadata": {},
   "outputs": [],
   "source": [
    "def get_prices(df, dynamic_prices, capaciteitspiek, nb_users):\n",
    "    df_prices = pd.read_csv(os.path.join('data','BelpexFilter.csv'), delimiter=';')\n",
    "    df_prices.rename(columns={'Date':'timestamps'}, inplace=True)\n",
    "    df_prices.timestamps = pd.to_datetime(df_prices.timestamps)\n",
    "    df_prices.sort_values('timestamps', inplace=True)\n",
    "    df_prices.set_index('timestamps', inplace=True)\n",
    "    df_prices = df_prices.asfreq('H')\n",
    "    df_prices = df_prices.resample('15T').interpolate()    \n",
    "    df_prices.energy_price = (df_prices.energy_price*1e-3 + 0.204*1e-3)*4.3 + 40.4*capaciteitspiek/(365*96*nb_users) \n",
    "    df = pd.concat([df, df_prices.loc[df.index[0]:df.index[-1]]], axis=1)\n",
    "    if dynamic_prices == False:\n",
    "        df.energy_price = np.mean(df_prices.energy_price)\n",
    "        print(\"#############################################################################\",'\\n',df.energy_price)\n",
    "\n",
    "    return df"
   ]
  },
  {
   "cell_type": "code",
   "execution_count": null,
   "metadata": {},
   "outputs": [],
   "source": [
    "def get_demandprof(user, df):\n",
    "    \"\"\"...\"\"\"\n",
    "    demand = []\n",
    "    Tz = get_Tz([user])[0]\n",
    "    user['Tz'] = Tz\n",
    "    for tz in Tz:\n",
    "        demand.append((df[user.get('rand_profile')+' SOC [kWh]'].iloc[tz[0]], df[user.get('rand_profile')+' SOC [kWh]'].iloc[tz[1]-1]))\n",
    "    return demand"
   ]
  },
  {
   "cell_type": "code",
   "execution_count": null,
   "metadata": {},
   "outputs": [],
   "source": []
  },
  {
   "cell_type": "code",
   "execution_count": null,
   "metadata": {},
   "outputs": [],
   "source": []
  }
 ],
 "metadata": {
  "language_info": {
   "name": "python"
  },
  "orig_nbformat": 4
 },
 "nbformat": 4,
 "nbformat_minor": 2
}
