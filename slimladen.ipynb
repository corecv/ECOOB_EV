{
 "cells": [
  {
   "cell_type": "code",
   "execution_count": null,
   "metadata": {},
   "outputs": [],
   "source": [
    "from pulp import LpMinimize, LpProblem, LpStatus, lpSum, LpVariable\n",
    "import numpy as np\n",
    "import pandas as pd\n",
    "from matplotlib import pyplot as plt\n",
    "from datetime import datetime, timedelta"
   ]
  },
  {
   "cell_type": "code",
   "execution_count": 17,
   "metadata": {},
   "outputs": [
    {
     "data": {
      "text/html": [
       "<div>\n",
       "<style scoped>\n",
       "    .dataframe tbody tr th:only-of-type {\n",
       "        vertical-align: middle;\n",
       "    }\n",
       "\n",
       "    .dataframe tbody tr th {\n",
       "        vertical-align: top;\n",
       "    }\n",
       "\n",
       "    .dataframe thead th {\n",
       "        text-align: right;\n",
       "    }\n",
       "</style>\n",
       "<table border=\"1\" class=\"dataframe\">\n",
       "  <thead>\n",
       "    <tr style=\"text-align: right;\">\n",
       "      <th></th>\n",
       "      <th>energy_price</th>\n",
       "    </tr>\n",
       "    <tr>\n",
       "      <th>timestamp</th>\n",
       "      <th></th>\n",
       "    </tr>\n",
       "  </thead>\n",
       "  <tbody>\n",
       "    <tr>\n",
       "      <th>2017-01-01 00:00:00</th>\n",
       "      <td>42.000</td>\n",
       "    </tr>\n",
       "    <tr>\n",
       "      <th>2017-01-01 00:15:00</th>\n",
       "      <td>43.985</td>\n",
       "    </tr>\n",
       "    <tr>\n",
       "      <th>2017-01-01 00:30:00</th>\n",
       "      <td>45.970</td>\n",
       "    </tr>\n",
       "    <tr>\n",
       "      <th>2017-01-01 00:45:00</th>\n",
       "      <td>47.955</td>\n",
       "    </tr>\n",
       "    <tr>\n",
       "      <th>2017-01-01 01:00:00</th>\n",
       "      <td>49.940</td>\n",
       "    </tr>\n",
       "  </tbody>\n",
       "</table>\n",
       "</div>"
      ],
      "text/plain": [
       "                     energy_price\n",
       "timestamp                        \n",
       "2017-01-01 00:00:00        42.000\n",
       "2017-01-01 00:15:00        43.985\n",
       "2017-01-01 00:30:00        45.970\n",
       "2017-01-01 00:45:00        47.955\n",
       "2017-01-01 01:00:00        49.940"
      ]
     },
     "execution_count": 17,
     "metadata": {},
     "output_type": "execute_result"
    }
   ],
   "source": [
    "import pandas as pd\n",
    "\n",
    "df_prices = pd.read_csv('BelpexFilter.csv', delimiter=';')\n",
    "df_prices.rename(columns={'Date':'timestamp'}, inplace=True)\n",
    "df_prices.timestamp = pd.to_datetime(df_prices.timestamp)\n",
    "df_prices.sort_values('timestamp', inplace=True)\n",
    "df_prices.set_index('timestamp', inplace=True)\n",
    "df_prices = df_prices.asfreq('H')\n",
    "df_prices = df_prices.resample('15T').interpolate()\n",
    "\n",
    "# df_prices.dynamic_price = df_prices.dynamic_price*1e-3 + 0.204*1e-3\n",
    "# df_prices['flat_price'] = np.mean(df_prices.dynamic_price)\n",
    "\n",
    "df_prices.head()"
   ]
  },
  {
   "cell_type": "code",
   "execution_count": null,
   "metadata": {},
   "outputs": [],
   "source": [
    "# df = pd.read_csv('Productie en verbruik info Core.csv', delimiter=';')\n",
    "# df.head()"
   ]
  },
  {
   "cell_type": "code",
   "execution_count": null,
   "metadata": {},
   "outputs": [],
   "source": [
    "# load1 = [0,0,1,1,1,1,1,1,1,1,0,0,0,0,0,0,0,1,1,1,0,0,0,0]\n",
    "# load2 = [1,0,0,1,0,0,0,0,1,1,1,1,1,1,1,0,0,0,1,1,1,0,1,1]\n",
    "# load1 = [val for val in load1 for _ in (0, 1, 2, 3)]\n",
    "# load2 = [val for val in load2 for _ in (0, 1, 2, 3)]\n",
    "# soc1 = [0,0,0,0,0,0,0,0,0,0,0,0,0,0,0,0,0,0,0,0,0,0,0,0]\n",
    "# soc2 = [0,0,0,0,0,0,0,0,0,0,0,0,0,0,0,0,0,0,0,0,0,0,0,0]\n",
    "# soc1 = [val for val in soc1 for _ in (0, 1, 2, 3)]\n",
    "# soc2 = [val for val in soc2 for _ in (0, 1, 2, 3)]\n",
    "\n",
    "# df_av = pd.DataFrame()\n",
    "# df_av['timestamp'] = df.index\n",
    "# df_av['availability_user1'] = load1*365\n",
    "# df_av['availability_user2'] = load2*365\n",
    "# df_av.set_index('timestamp', inplace=True)\n",
    "# df_av.to_csv('availability_profiles.csv')"
   ]
  },
  {
   "cell_type": "code",
   "execution_count": null,
   "metadata": {},
   "outputs": [],
   "source": [
    "pd.to_datetime(df.Datum.iloc[0] + ' ' + df.Tijd.iloc[0])\n",
    "df.Datum = pd.to_datetime(df.Datum + ' ' + df.Tijd)\n",
    "df.rename(columns={'Datum':'timestamp'}, inplace=True)\n",
    "df.drop(['Tijd'], axis = 1, inplace = True)\n",
    "df.set_index('timestamp', inplace=True)\n",
    "df.head()"
   ]
  },
  {
   "cell_type": "code",
   "execution_count": null,
   "metadata": {},
   "outputs": [],
   "source": [
    "# T = 24\n",
    "# availability_user1 = np.array([0,0,0,0,1,1,1,1,1,1,1,1,1,1,1,1,1,1,1,1,1,1,1,1,0,0,0,0,0,0,0,0,0,0,0,0,0,0,0,0,0,0,0,0,0,0,0,0,0,0,0,0,0,0,0,0,0,0,0,0,0,0,0,0,0,0,0,0,1,1,1,1,1,1,1,1,1,1,1,1,1,1,1,1,1,1,1,1,0,0,0,0,0,0,0,0])\n",
    "# availability_user2 = np.array([0,0,0,0,0,0,0,0,0,0,0,0,1,1,1,1,0,0,0,0,0,0,0,0,0,0,0,0,0,0,0,0,0,0,0,0,0,0,0,0,1,1,1,1,1,1,1,1,1,1,1,1,1,1,1,1,1,1,1,1,0,0,0,0,0,0,0,0,0,0,0,0,0,0,0,0,1,1,1,1,1,1,1,1,1,1,1,1,0,0,0,0,0,0,0,0])\n",
    "from profiles import users\n",
    "\n",
    "df.Beschikbaarheidsprofiel1.iloc[:96] = np.array(users[0].get('loadprof'))\n",
    "df.Beschikbaarheidsprofiel2.iloc[:96] = np.array(users[1].get('loadprof'))\n",
    "\n",
    "max_charge_rate = 22000/4\n",
    "offtake_price = 0.5e-3\n"
   ]
  },
  {
   "cell_type": "code",
   "execution_count": null,
   "metadata": {},
   "outputs": [],
   "source": [
    "plt.figure()\n",
    "plt.plot(df.timestamp.iloc[:96], df.Beschikbaarheidsprofiel1.iloc[:96])\n",
    "plt.plot(df.timestamp.iloc[:96], df.Beschikbaarheidsprofiel2.iloc[:96])\n",
    "plt.legend(['Beschikbaarheid user 1','Beschikbaarheid user 2'], loc='upper right', bbox_to_anchor=(1.5, 1))\n"
   ]
  },
  {
   "cell_type": "code",
   "execution_count": null,
   "metadata": {},
   "outputs": [],
   "source": [
    "# Dom laden: op elk tijdsstip t vraagt elke auto die wilt laden, max vermogen. Als boven cap: verschil met cap/#ladende auto's aftrekken van geladen vermogen."
   ]
  },
  {
   "cell_type": "code",
   "execution_count": null,
   "metadata": {},
   "outputs": [],
   "source": [
    "# Make Tz\n",
    "status = 0\n",
    "start = 0\n",
    "stop = 0\n",
    "Tz_user1 = []\n",
    "for t in range(len(df.Beschikbaarheidsprofiel1.iloc[0:96])):\n",
    "    if df.Beschikbaarheidsprofiel1.iloc[t] == 1 and status==0:\n",
    "        start = t\n",
    "        status = 1\n",
    "    elif df.Beschikbaarheidsprofiel1.iloc[t] == 0 and status==1: #in deze t laadt hij niet meer, maar in de vorige wel nog -> stop = t\n",
    "        stop = t\n",
    "        status = 0\n",
    "        Tz_user1.append((start,stop))\n",
    "\n",
    "status = 0\n",
    "start = 0\n",
    "stop = 0\n",
    "Tz_user2 = []\n",
    "for t in range(len(df.Beschikbaarheidsprofiel2.iloc[0:96])):\n",
    "    if df.Beschikbaarheidsprofiel2.iloc[t] == 1 and status==0:\n",
    "        start = t\n",
    "        status = 1\n",
    "    elif df.Beschikbaarheidsprofiel2.iloc[t] == 0 and status==1: #in deze t laadt hij niet meer, maar in de vorige wel nog -> stop = t\n",
    "        stop = t\n",
    "        status = 0\n",
    "        Tz_user2.append((start,stop))\n",
    "\n",
    "Tz = [Tz_user1, Tz_user2]\n",
    "print(Tz)"
   ]
  },
  {
   "cell_type": "code",
   "execution_count": null,
   "metadata": {},
   "outputs": [],
   "source": [
    "max_charge_rates = [users[0].get('user')[0], users[1].get('user')[0]]"
   ]
  },
  {
   "cell_type": "code",
   "execution_count": null,
   "metadata": {},
   "outputs": [],
   "source": [
    "print(users[1].get('demandprof'))\n",
    "print(users[0].get('user'))"
   ]
  },
  {
   "cell_type": "code",
   "execution_count": null,
   "metadata": {},
   "outputs": [],
   "source": [
    "demand = [[0,0], [0,0,0,0,0]]\n",
    "for i in range(2):\n",
    "    for y in range(len(demand[i])):\n",
    "        demand[i][y] = (users[i].get('demandprof')[y][1]-users[i].get('demandprof')[y][0])*users[i].get('user')[1]*1000*4\n",
    "\n",
    "print(demand)"
   ]
  },
  {
   "cell_type": "code",
   "execution_count": null,
   "metadata": {},
   "outputs": [],
   "source": [
    "model = LpProblem(name='laadpaalstudie', sense=LpMinimize)\n",
    "Z = [2,3] #number of times the car is at the chargingstation within simulation period (T), Z = len(Tz)\n",
    "T = 24*4 #timesteps in hour resolution\n",
    "cap = 20000\n",
    "C = 2 #number of charging stations\n",
    "# Tz = [[(1*4,6*4),(18*4,22*4)], [(3*4,4*4),(10*4,15*4),(19*4,22*4)]]\n",
    "# demand = [[3000*4,5000*4],[1000*4,2000*4,6000*4]] #in Watt-kwartier\n",
    "priority = [1,1] #According to users: least priority gets 1, next 2, next 3,... len(priority) = C\n",
    "\n",
    "\n",
    "zcharge = LpVariable.dicts('zcharge', [(c,z) for c in range(C) for z in range(Z[c])], lowBound=0, upBound= max_charge_rate)#[max_charge_rates[c] for c in range(C)])\n",
    "tcharge = LpVariable.dicts('tcharge', [(c,t) for c in range(C) for t in range(T)], lowBound=0, upBound=max_charge_rate)#[max_charge_rates[c] for c in range(C)])\n",
    "\n",
    "obj = lpSum([(demand[c][z] - zcharge[(c,z)])*priority[c] for c in range(C) for z in range(Z[c])])\n",
    "model += obj\n",
    "\n",
    "\n",
    "for t in range(T):\n",
    "    model += (lpSum(tcharge[(c,t)] for c in range(C)) + np.array(df['Gemeenschappelijk verbruik in kW'].iloc[t])*1000 - np.array(df['Productie in kW'].iloc[t])*1000 <= cap)\n",
    "    \n",
    "for c in range(C):\n",
    "    for z in range(Z[c]):\n",
    "        model += (zcharge[(c,z)] == lpSum([tcharge[(c,t)] for t in range(Tz[c][z][0],Tz[c][z][1])]))\n",
    "\n",
    "        model += (zcharge[(c,z)] <= demand[c][z])\n",
    "\n",
    "\n",
    "\n",
    "# Solve the problem\n",
    "status = model.solve(use_mps=False)\n",
    "\n",
    "print(f\"status: {model.status}, {LpStatus[model.status]}\")\n",
    "\n",
    "\n",
    "print(f\"objective: {model.objective.value()}\")\n",
    "\n",
    "\n",
    "for var in model.variables():\n",
    "    print(f\"{var.name}: {var.value()}\")\n",
    "\n"
   ]
  },
  {
   "cell_type": "code",
   "execution_count": null,
   "metadata": {},
   "outputs": [],
   "source": []
  },
  {
   "cell_type": "code",
   "execution_count": null,
   "metadata": {},
   "outputs": [],
   "source": [
    "# zcharge_arr = np.zeros([(c,z) for c in range(C) for z in range(Z[c])])\n",
    "tcharge_arr = np.zeros((C,T))\n",
    "for c in range(C):\n",
    "    for t in range(T):\n",
    "        tcharge_arr[(c,t)] = tcharge[(c,t)].value()\n",
    "    # for z in range(Z[c]):\n",
    "    #     zcharge_arr[(c,z)] = zcharge[(c,z)].value()"
   ]
  },
  {
   "cell_type": "code",
   "execution_count": null,
   "metadata": {},
   "outputs": [],
   "source": [
    "print(T)"
   ]
  },
  {
   "cell_type": "code",
   "execution_count": null,
   "metadata": {},
   "outputs": [],
   "source": [
    "print(np.array(df.Beschikbaarheidsprofiel1.iloc[:96]))"
   ]
  },
  {
   "cell_type": "code",
   "execution_count": null,
   "metadata": {},
   "outputs": [],
   "source": [
    "plt.figure()\n",
    "plt.plot(np.array(df['Gemeenschappelijk verbruik in kW'].iloc[0:T])*1000)\n",
    "plt.plot(np.array(df['Productie in kW'].iloc[0:T])*1000)\n",
    "plt.plot(tcharge_arr[0])\n",
    "# plt.plot(np.array(df.Beschikbaarheidsprofiel1.iloc[:96])*cap)\n",
    "plt.plot(tcharge_arr[1])\n",
    "# plt.plot(np.array(df.Beschikbaarheidsprofiel2.iloc[:96])*cap)\n",
    "plt.plot(tcharge_arr[0] + tcharge_arr[1] + np.array(df['Gemeenschappelijk verbruik in kW'].iloc[0:T])*1000 - np.array(df['Productie in kW'].iloc[0:T])*1000)\n",
    "plt.legend(['Gemeenschappelijk verbruik', 'Productie', 'Laadprofiel 1', 'Laadprofiel 2', 'Afname net'], loc='upper right', bbox_to_anchor=(1.5, 1))\n",
    "#, 'Beschikbaarheid 1','Beschikbaarheid 2'\n",
    "\n",
    "\n",
    "# for c in range(C):\n",
    "#     plt.plot(tcharge_arr[c])\n",
    "#     # plt.plot(zcharge_arr[c])\n",
    "# print(tcharge_arr[0], tcharge_arr[1])\n",
    "# # print(zcharge_arr[1])"
   ]
  }
 ],
 "metadata": {
  "kernelspec": {
   "display_name": "scoptvision",
   "language": "python",
   "name": "python3"
  },
  "language_info": {
   "codemirror_mode": {
    "name": "ipython",
    "version": 3
   },
   "file_extension": ".py",
   "mimetype": "text/x-python",
   "name": "python",
   "nbconvert_exporter": "python",
   "pygments_lexer": "ipython3",
   "version": "3.10.10"
  },
  "orig_nbformat": 4
 },
 "nbformat": 4,
 "nbformat_minor": 2
}
