{
 "cells": [
  {
   "cell_type": "code",
   "execution_count": 18,
   "metadata": {},
   "outputs": [],
   "source": [
    "from pulp import LpMinimize, LpProblem, LpStatus, lpSum, LpVariable\n",
    "import numpy as np\n",
    "import pandas as pd\n",
    "from matplotlib import pyplot as plt\n",
    "from datetime import datetime, timedelta"
   ]
  },
  {
   "cell_type": "code",
   "execution_count": 16,
   "metadata": {},
   "outputs": [],
   "source": [
    "# df_prices = pd.read_csv('BelpexFilter.csv', engine='python')\n",
    "# df_prices.head()\n",
    "\n",
    "\n",
    "# df.sort_values('timestamp', inplace=True)\n",
    "# df.head()"
   ]
  },
  {
   "cell_type": "code",
   "execution_count": 19,
   "metadata": {},
   "outputs": [
    {
     "data": {
      "text/html": [
       "<div>\n",
       "<style scoped>\n",
       "    .dataframe tbody tr th:only-of-type {\n",
       "        vertical-align: middle;\n",
       "    }\n",
       "\n",
       "    .dataframe tbody tr th {\n",
       "        vertical-align: top;\n",
       "    }\n",
       "\n",
       "    .dataframe thead th {\n",
       "        text-align: right;\n",
       "    }\n",
       "</style>\n",
       "<table border=\"1\" class=\"dataframe\">\n",
       "  <thead>\n",
       "    <tr style=\"text-align: right;\">\n",
       "      <th></th>\n",
       "      <th>Datum</th>\n",
       "      <th>Tijd</th>\n",
       "      <th>Gemeenschappelijk verbruik in kW</th>\n",
       "      <th>Productie in kW</th>\n",
       "    </tr>\n",
       "  </thead>\n",
       "  <tbody>\n",
       "    <tr>\n",
       "      <th>0</th>\n",
       "      <td>01.01.2017</td>\n",
       "      <td>0:00:00</td>\n",
       "      <td>10.715</td>\n",
       "      <td>0.0</td>\n",
       "    </tr>\n",
       "    <tr>\n",
       "      <th>1</th>\n",
       "      <td>01.01.2017</td>\n",
       "      <td>0:15:00</td>\n",
       "      <td>10.450</td>\n",
       "      <td>0.0</td>\n",
       "    </tr>\n",
       "    <tr>\n",
       "      <th>2</th>\n",
       "      <td>01.01.2017</td>\n",
       "      <td>0:30:00</td>\n",
       "      <td>10.685</td>\n",
       "      <td>0.0</td>\n",
       "    </tr>\n",
       "    <tr>\n",
       "      <th>3</th>\n",
       "      <td>01.01.2017</td>\n",
       "      <td>0:45:00</td>\n",
       "      <td>9.765</td>\n",
       "      <td>0.0</td>\n",
       "    </tr>\n",
       "    <tr>\n",
       "      <th>4</th>\n",
       "      <td>01.01.2017</td>\n",
       "      <td>1:00:00</td>\n",
       "      <td>9.505</td>\n",
       "      <td>0.0</td>\n",
       "    </tr>\n",
       "  </tbody>\n",
       "</table>\n",
       "</div>"
      ],
      "text/plain": [
       "        Datum     Tijd  Gemeenschappelijk verbruik in kW  Productie in kW\n",
       "0  01.01.2017  0:00:00                            10.715              0.0\n",
       "1  01.01.2017  0:15:00                            10.450              0.0\n",
       "2  01.01.2017  0:30:00                            10.685              0.0\n",
       "3  01.01.2017  0:45:00                             9.765              0.0\n",
       "4  01.01.2017  1:00:00                             9.505              0.0"
      ]
     },
     "execution_count": 19,
     "metadata": {},
     "output_type": "execute_result"
    }
   ],
   "source": [
    "df = pd.read_csv('Productie en verbruik info Core.csv', delimiter=';')\n",
    "df.head()"
   ]
  },
  {
   "cell_type": "code",
   "execution_count": 24,
   "metadata": {},
   "outputs": [],
   "source": [
    "# load1 = [0,0,1,1,1,1,1,1,1,1,0,0,0,0,0,0,0,1,1,1,0,0,0,0]\n",
    "# load2 = [1,0,0,1,0,0,0,0,1,1,1,1,1,1,1,0,0,0,1,1,1,0,1,1]\n",
    "# load1 = [val for val in load1 for _ in (0, 1, 2, 3)]\n",
    "# load2 = [val for val in load2 for _ in (0, 1, 2, 3)]\n",
    "# soc1 = [0,0,0,0,0,0,0,0,0,0,0,0,0,0,0,0,0,0,0,0,0,0,0,0]\n",
    "# soc2 = [0,0,0,0,0,0,0,0,0,0,0,0,0,0,0,0,0,0,0,0,0,0,0,0]\n",
    "# soc1 = [val for val in soc1 for _ in (0, 1, 2, 3)]\n",
    "# soc2 = [val for val in soc2 for _ in (0, 1, 2, 3)]\n",
    "\n",
    "# df_av = pd.DataFrame()\n",
    "# df_av['timestamp'] = df.index\n",
    "# df_av['availability_user1'] = load1*365\n",
    "# df_av['availability_user2'] = load2*365\n",
    "# df_av.set_index('timestamp', inplace=True)\n",
    "# df_av.to_csv('availability_profiles.csv')"
   ]
  },
  {
   "cell_type": "code",
   "execution_count": 20,
   "metadata": {},
   "outputs": [
    {
     "data": {
      "text/html": [
       "<div>\n",
       "<style scoped>\n",
       "    .dataframe tbody tr th:only-of-type {\n",
       "        vertical-align: middle;\n",
       "    }\n",
       "\n",
       "    .dataframe tbody tr th {\n",
       "        vertical-align: top;\n",
       "    }\n",
       "\n",
       "    .dataframe thead th {\n",
       "        text-align: right;\n",
       "    }\n",
       "</style>\n",
       "<table border=\"1\" class=\"dataframe\">\n",
       "  <thead>\n",
       "    <tr style=\"text-align: right;\">\n",
       "      <th></th>\n",
       "      <th>Gemeenschappelijk verbruik in kW</th>\n",
       "      <th>Productie in kW</th>\n",
       "    </tr>\n",
       "    <tr>\n",
       "      <th>timestamp</th>\n",
       "      <th></th>\n",
       "      <th></th>\n",
       "    </tr>\n",
       "  </thead>\n",
       "  <tbody>\n",
       "    <tr>\n",
       "      <th>2017-01-01 00:00:00</th>\n",
       "      <td>10.715</td>\n",
       "      <td>0.0</td>\n",
       "    </tr>\n",
       "    <tr>\n",
       "      <th>2017-01-01 00:15:00</th>\n",
       "      <td>10.450</td>\n",
       "      <td>0.0</td>\n",
       "    </tr>\n",
       "    <tr>\n",
       "      <th>2017-01-01 00:30:00</th>\n",
       "      <td>10.685</td>\n",
       "      <td>0.0</td>\n",
       "    </tr>\n",
       "    <tr>\n",
       "      <th>2017-01-01 00:45:00</th>\n",
       "      <td>9.765</td>\n",
       "      <td>0.0</td>\n",
       "    </tr>\n",
       "    <tr>\n",
       "      <th>2017-01-01 01:00:00</th>\n",
       "      <td>9.505</td>\n",
       "      <td>0.0</td>\n",
       "    </tr>\n",
       "  </tbody>\n",
       "</table>\n",
       "</div>"
      ],
      "text/plain": [
       "                     Gemeenschappelijk verbruik in kW  Productie in kW\n",
       "timestamp                                                             \n",
       "2017-01-01 00:00:00                            10.715              0.0\n",
       "2017-01-01 00:15:00                            10.450              0.0\n",
       "2017-01-01 00:30:00                            10.685              0.0\n",
       "2017-01-01 00:45:00                             9.765              0.0\n",
       "2017-01-01 01:00:00                             9.505              0.0"
      ]
     },
     "execution_count": 20,
     "metadata": {},
     "output_type": "execute_result"
    }
   ],
   "source": [
    "pd.to_datetime(df.Datum.iloc[0] + ' ' + df.Tijd.iloc[0])\n",
    "df.Datum = pd.to_datetime(df.Datum + ' ' + df.Tijd)\n",
    "df.rename(columns={'Datum':'timestamp'}, inplace=True)\n",
    "df.drop(['Tijd'], axis = 1, inplace = True)\n",
    "df.set_index('timestamp', inplace=True)\n",
    "df.head()"
   ]
  },
  {
   "cell_type": "code",
   "execution_count": 19,
   "metadata": {},
   "outputs": [
    {
     "ename": "ImportError",
     "evalue": "cannot import name 'users' from 'profiles' (c:\\Users\\pitou\\Documents\\KUL\\CORE\\ECoOB\\ECOOB_EV\\profiles.py)",
     "output_type": "error",
     "traceback": [
      "\u001b[1;31m---------------------------------------------------------------------------\u001b[0m",
      "\u001b[1;31mImportError\u001b[0m                               Traceback (most recent call last)",
      "Cell \u001b[1;32mIn[19], line 4\u001b[0m\n\u001b[0;32m      1\u001b[0m \u001b[39m# T = 24\u001b[39;00m\n\u001b[0;32m      2\u001b[0m \u001b[39m# availability_user1 = np.array([0,0,0,0,1,1,1,1,1,1,1,1,1,1,1,1,1,1,1,1,1,1,1,1,0,0,0,0,0,0,0,0,0,0,0,0,0,0,0,0,0,0,0,0,0,0,0,0,0,0,0,0,0,0,0,0,0,0,0,0,0,0,0,0,0,0,0,0,1,1,1,1,1,1,1,1,1,1,1,1,1,1,1,1,1,1,1,1,0,0,0,0,0,0,0,0])\u001b[39;00m\n\u001b[0;32m      3\u001b[0m \u001b[39m# availability_user2 = np.array([0,0,0,0,0,0,0,0,0,0,0,0,1,1,1,1,0,0,0,0,0,0,0,0,0,0,0,0,0,0,0,0,0,0,0,0,0,0,0,0,1,1,1,1,1,1,1,1,1,1,1,1,1,1,1,1,1,1,1,1,0,0,0,0,0,0,0,0,0,0,0,0,0,0,0,0,1,1,1,1,1,1,1,1,1,1,1,1,0,0,0,0,0,0,0,0])\u001b[39;00m\n\u001b[1;32m----> 4\u001b[0m \u001b[39mfrom\u001b[39;00m \u001b[39mprofiles\u001b[39;00m \u001b[39mimport\u001b[39;00m users\n\u001b[0;32m      6\u001b[0m df\u001b[39m.\u001b[39mBeschikbaarheidsprofiel1\u001b[39m.\u001b[39miloc[:\u001b[39m96\u001b[39m] \u001b[39m=\u001b[39m np\u001b[39m.\u001b[39marray(users[\u001b[39m0\u001b[39m]\u001b[39m.\u001b[39mget(\u001b[39m'\u001b[39m\u001b[39mloadprof\u001b[39m\u001b[39m'\u001b[39m))\n\u001b[0;32m      7\u001b[0m df\u001b[39m.\u001b[39mBeschikbaarheidsprofiel2\u001b[39m.\u001b[39miloc[:\u001b[39m96\u001b[39m] \u001b[39m=\u001b[39m np\u001b[39m.\u001b[39marray(users[\u001b[39m1\u001b[39m]\u001b[39m.\u001b[39mget(\u001b[39m'\u001b[39m\u001b[39mloadprof\u001b[39m\u001b[39m'\u001b[39m))\n",
      "\u001b[1;31mImportError\u001b[0m: cannot import name 'users' from 'profiles' (c:\\Users\\pitou\\Documents\\KUL\\CORE\\ECoOB\\ECOOB_EV\\profiles.py)"
     ]
    }
   ],
   "source": [
    "# T = 24\n",
    "# availability_user1 = np.array([0,0,0,0,1,1,1,1,1,1,1,1,1,1,1,1,1,1,1,1,1,1,1,1,0,0,0,0,0,0,0,0,0,0,0,0,0,0,0,0,0,0,0,0,0,0,0,0,0,0,0,0,0,0,0,0,0,0,0,0,0,0,0,0,0,0,0,0,1,1,1,1,1,1,1,1,1,1,1,1,1,1,1,1,1,1,1,1,0,0,0,0,0,0,0,0])\n",
    "# availability_user2 = np.array([0,0,0,0,0,0,0,0,0,0,0,0,1,1,1,1,0,0,0,0,0,0,0,0,0,0,0,0,0,0,0,0,0,0,0,0,0,0,0,0,1,1,1,1,1,1,1,1,1,1,1,1,1,1,1,1,1,1,1,1,0,0,0,0,0,0,0,0,0,0,0,0,0,0,0,0,1,1,1,1,1,1,1,1,1,1,1,1,0,0,0,0,0,0,0,0])\n",
    "from profiles import users\n",
    "\n",
    "df.Beschikbaarheidsprofiel1.iloc[:96] = np.array(users[0].get('loadprof'))\n",
    "df.Beschikbaarheidsprofiel2.iloc[:96] = np.array(users[1].get('loadprof'))\n",
    "\n",
    "max_charge_rate = 22000/4\n",
    "offtake_price = 0.5e-3\n"
   ]
  },
  {
   "cell_type": "code",
   "execution_count": null,
   "metadata": {},
   "outputs": [
    {
     "data": {
      "text/plain": [
       "<matplotlib.legend.Legend at 0x2bf5f2eb8e0>"
      ]
     },
     "execution_count": 114,
     "metadata": {},
     "output_type": "execute_result"
    },
    {
     "data": {
      "image/png": "[encoded data removed]",
      "text/plain": [
       "<Figure size 640x480 with 1 Axes>"
      ]
     },
     "metadata": {},
     "output_type": "display_data"
    }
   ],
   "source": [
    "plt.figure()\n",
    "plt.plot(df.timestamp.iloc[:96], df.Beschikbaarheidsprofiel1.iloc[:96])\n",
    "plt.plot(df.timestamp.iloc[:96], df.Beschikbaarheidsprofiel2.iloc[:96])\n",
    "plt.legend(['Beschikbaarheid user 1','Beschikbaarheid user 2'], loc='upper right', bbox_to_anchor=(1.5, 1))\n"
   ]
  },
  {
   "cell_type": "code",
   "execution_count": null,
   "metadata": {},
   "outputs": [],
   "source": [
    "# Dom laden: op elk tijdsstip t vraagt elke auto die wilt laden, max vermogen. Als boven cap: verschil met cap/#ladende auto's aftrekken van geladen vermogen."
   ]
  },
  {
   "cell_type": "code",
   "execution_count": null,
   "metadata": {},
   "outputs": [
    {
     "name": "stdout",
     "output_type": "stream",
     "text": [
      "[[(8, 40), (68, 80)], [(0, 4), (12, 16), (32, 60), (72, 84)]]\n"
     ]
    }
   ],
   "source": [
    "# Make Tz\n",
    "status = 0\n",
    "start = 0\n",
    "stop = 0\n",
    "Tz_user1 = []\n",
    "for t in range(len(df.Beschikbaarheidsprofiel1.iloc[0:96])):\n",
    "    if df.Beschikbaarheidsprofiel1.iloc[t] == 1 and status==0:\n",
    "        start = t\n",
    "        status = 1\n",
    "    elif df.Beschikbaarheidsprofiel1.iloc[t] == 0 and status==1: #in deze t laadt hij niet meer, maar in de vorige wel nog -> stop = t\n",
    "        stop = t\n",
    "        status = 0\n",
    "        Tz_user1.append((start,stop))\n",
    "\n",
    "status = 0\n",
    "start = 0\n",
    "stop = 0\n",
    "Tz_user2 = []\n",
    "for t in range(len(df.Beschikbaarheidsprofiel2.iloc[0:96])):\n",
    "    if df.Beschikbaarheidsprofiel2.iloc[t] == 1 and status==0:\n",
    "        start = t\n",
    "        status = 1\n",
    "    elif df.Beschikbaarheidsprofiel2.iloc[t] == 0 and status==1: #in deze t laadt hij niet meer, maar in de vorige wel nog -> stop = t\n",
    "        stop = t\n",
    "        status = 0\n",
    "        Tz_user2.append((start,stop))\n",
    "\n",
    "Tz = [Tz_user1, Tz_user2]\n",
    "print(Tz)"
   ]
  },
  {
   "cell_type": "code",
   "execution_count": null,
   "metadata": {},
   "outputs": [],
   "source": [
    "max_charge_rates = [users[0].get('user')[0], users[1].get('user')[0]]"
   ]
  },
  {
   "cell_type": "code",
   "execution_count": null,
   "metadata": {},
   "outputs": [
    {
     "name": "stdout",
     "output_type": "stream",
     "text": [
      "[(0.5, 1), (0.1, 0.9), (0.6, 1), (0.4, 1), (0.5, 1)]\n",
      "[5, 50]\n"
     ]
    }
   ],
   "source": [
    "print(users[1].get('demandprof'))\n",
    "print(users[0].get('user'))"
   ]
  },
  {
   "cell_type": "code",
   "execution_count": null,
   "metadata": {},
   "outputs": [
    {
     "name": "stdout",
     "output_type": "stream",
     "text": [
      "[[120000.0, 60000.00000000001], [140000.0, 224000.0, 112000.0, 168000.0, 140000.0]]\n"
     ]
    }
   ],
   "source": [
    "demand = [[0,0], [0,0,0,0,0]]\n",
    "for i in range(2):\n",
    "    for y in range(len(demand[i])):\n",
    "        demand[i][y] = (users[i].get('demandprof')[y][1]-users[i].get('demandprof')[y][0])*users[i].get('user')[1]*1000*4\n",
    "\n",
    "print(demand)"
   ]
  },
  {
   "cell_type": "code",
   "execution_count": null,
   "metadata": {},
   "outputs": [
    {
     "name": "stdout",
     "output_type": "stream",
     "text": [
      "status: 1, Optimal\n",
      "objective: 628500.0\n",
      "tcharge_(0,_0): 0.0\n",
      "tcharge_(0,_1): 0.0\n",
      "tcharge_(0,_10): 0.0\n",
      "tcharge_(0,_11): 0.0\n",
      "tcharge_(0,_12): 0.0\n",
      "tcharge_(0,_13): 0.0\n",
      "tcharge_(0,_14): 0.0\n",
      "tcharge_(0,_15): 0.0\n",
      "tcharge_(0,_16): 0.0\n",
      "tcharge_(0,_17): 5500.0\n",
      "tcharge_(0,_18): 0.0\n",
      "tcharge_(0,_19): 0.0\n",
      "tcharge_(0,_2): 0.0\n",
      "tcharge_(0,_20): 0.0\n",
      "tcharge_(0,_21): 0.0\n",
      "tcharge_(0,_22): 0.0\n",
      "tcharge_(0,_23): 0.0\n",
      "tcharge_(0,_24): 0.0\n",
      "tcharge_(0,_25): 0.0\n",
      "tcharge_(0,_26): 0.0\n",
      "tcharge_(0,_27): 0.0\n",
      "tcharge_(0,_28): 0.0\n",
      "tcharge_(0,_29): 0.0\n",
      "tcharge_(0,_3): 0.0\n",
      "tcharge_(0,_30): 0.0\n",
      "tcharge_(0,_31): 0.0\n",
      "tcharge_(0,_32): 0.0\n",
      "tcharge_(0,_33): 0.0\n",
      "tcharge_(0,_34): 0.0\n",
      "tcharge_(0,_35): 0.0\n",
      "tcharge_(0,_36): 0.0\n",
      "tcharge_(0,_37): 0.0\n",
      "tcharge_(0,_38): 0.0\n",
      "tcharge_(0,_39): 0.0\n",
      "tcharge_(0,_4): 0.0\n",
      "tcharge_(0,_40): 0.0\n",
      "tcharge_(0,_41): 0.0\n",
      "tcharge_(0,_42): 0.0\n",
      "tcharge_(0,_43): 0.0\n",
      "tcharge_(0,_44): 0.0\n",
      "tcharge_(0,_45): 0.0\n",
      "tcharge_(0,_46): 0.0\n",
      "tcharge_(0,_47): 0.0\n",
      "tcharge_(0,_48): 0.0\n",
      "tcharge_(0,_49): 0.0\n",
      "tcharge_(0,_5): 0.0\n",
      "tcharge_(0,_50): 0.0\n",
      "tcharge_(0,_51): 0.0\n",
      "tcharge_(0,_52): 0.0\n",
      "tcharge_(0,_53): 0.0\n",
      "tcharge_(0,_54): 0.0\n",
      "tcharge_(0,_55): 0.0\n",
      "tcharge_(0,_56): 0.0\n",
      "tcharge_(0,_57): 0.0\n",
      "tcharge_(0,_58): 0.0\n",
      "tcharge_(0,_59): 0.0\n",
      "tcharge_(0,_6): 0.0\n",
      "tcharge_(0,_60): 0.0\n",
      "tcharge_(0,_61): 0.0\n",
      "tcharge_(0,_62): 0.0\n",
      "tcharge_(0,_63): 0.0\n",
      "tcharge_(0,_64): 0.0\n",
      "tcharge_(0,_65): 0.0\n",
      "tcharge_(0,_66): 0.0\n",
      "tcharge_(0,_67): 0.0\n",
      "tcharge_(0,_68): 0.0\n",
      "tcharge_(0,_69): 0.0\n",
      "tcharge_(0,_7): 0.0\n",
      "tcharge_(0,_70): 0.0\n",
      "tcharge_(0,_71): 5500.0\n",
      "tcharge_(0,_72): 0.0\n",
      "tcharge_(0,_73): 0.0\n",
      "tcharge_(0,_74): 0.0\n",
      "tcharge_(0,_75): 0.0\n",
      "tcharge_(0,_76): 0.0\n",
      "tcharge_(0,_77): 0.0\n",
      "tcharge_(0,_78): 0.0\n",
      "tcharge_(0,_79): 0.0\n",
      "tcharge_(0,_8): 0.0\n",
      "tcharge_(0,_80): 0.0\n",
      "tcharge_(0,_81): 0.0\n",
      "tcharge_(0,_82): 0.0\n",
      "tcharge_(0,_83): 0.0\n",
      "tcharge_(0,_84): 0.0\n",
      "tcharge_(0,_85): 0.0\n",
      "tcharge_(0,_86): 0.0\n",
      "tcharge_(0,_87): 0.0\n",
      "tcharge_(0,_88): 0.0\n",
      "tcharge_(0,_89): 0.0\n",
      "tcharge_(0,_9): 0.0\n",
      "tcharge_(0,_90): 0.0\n",
      "tcharge_(0,_91): 0.0\n",
      "tcharge_(0,_92): 0.0\n",
      "tcharge_(0,_93): 0.0\n",
      "tcharge_(0,_94): 0.0\n",
      "tcharge_(0,_95): 0.0\n",
      "tcharge_(1,_0): 0.0\n",
      "tcharge_(1,_1): 0.0\n",
      "tcharge_(1,_10): 0.0\n",
      "tcharge_(1,_11): 0.0\n",
      "tcharge_(1,_12): 5500.0\n",
      "tcharge_(1,_13): 0.0\n",
      "tcharge_(1,_14): 0.0\n",
      "tcharge_(1,_15): 0.0\n",
      "tcharge_(1,_16): 0.0\n",
      "tcharge_(1,_17): 0.0\n",
      "tcharge_(1,_18): 0.0\n",
      "tcharge_(1,_19): 0.0\n",
      "tcharge_(1,_2): 5500.0\n",
      "tcharge_(1,_20): 0.0\n",
      "tcharge_(1,_21): 0.0\n",
      "tcharge_(1,_22): 0.0\n",
      "tcharge_(1,_23): 0.0\n",
      "tcharge_(1,_24): 0.0\n",
      "tcharge_(1,_25): 0.0\n",
      "tcharge_(1,_26): 0.0\n",
      "tcharge_(1,_27): 0.0\n",
      "tcharge_(1,_28): 0.0\n",
      "tcharge_(1,_29): 0.0\n",
      "tcharge_(1,_3): 0.0\n",
      "tcharge_(1,_30): 0.0\n",
      "tcharge_(1,_31): 0.0\n",
      "tcharge_(1,_32): 0.0\n",
      "tcharge_(1,_33): 0.0\n",
      "tcharge_(1,_34): 0.0\n",
      "tcharge_(1,_35): 0.0\n",
      "tcharge_(1,_36): 0.0\n",
      "tcharge_(1,_37): 0.0\n",
      "tcharge_(1,_38): 0.0\n",
      "tcharge_(1,_39): 0.0\n",
      "tcharge_(1,_4): 0.0\n",
      "tcharge_(1,_40): 5500.0\n",
      "tcharge_(1,_41): 0.0\n",
      "tcharge_(1,_42): 0.0\n",
      "tcharge_(1,_43): 0.0\n",
      "tcharge_(1,_44): 0.0\n",
      "tcharge_(1,_45): 0.0\n",
      "tcharge_(1,_46): 0.0\n",
      "tcharge_(1,_47): 0.0\n",
      "tcharge_(1,_48): 0.0\n",
      "tcharge_(1,_49): 0.0\n",
      "tcharge_(1,_5): 0.0\n",
      "tcharge_(1,_50): 0.0\n",
      "tcharge_(1,_51): 0.0\n",
      "tcharge_(1,_52): 0.0\n",
      "tcharge_(1,_53): 0.0\n",
      "tcharge_(1,_54): 0.0\n",
      "tcharge_(1,_55): 0.0\n",
      "tcharge_(1,_56): 0.0\n",
      "tcharge_(1,_57): 0.0\n",
      "tcharge_(1,_58): 0.0\n",
      "tcharge_(1,_59): 0.0\n",
      "tcharge_(1,_6): 0.0\n",
      "tcharge_(1,_60): 0.0\n",
      "tcharge_(1,_61): 0.0\n",
      "tcharge_(1,_62): 0.0\n",
      "tcharge_(1,_63): 0.0\n",
      "tcharge_(1,_64): 0.0\n",
      "tcharge_(1,_65): 0.0\n",
      "tcharge_(1,_66): 0.0\n",
      "tcharge_(1,_67): 0.0\n",
      "tcharge_(1,_68): 0.0\n",
      "tcharge_(1,_69): 0.0\n",
      "tcharge_(1,_7): 0.0\n",
      "tcharge_(1,_70): 0.0\n",
      "tcharge_(1,_71): 0.0\n",
      "tcharge_(1,_72): 0.0\n",
      "tcharge_(1,_73): 0.0\n",
      "tcharge_(1,_74): 0.0\n",
      "tcharge_(1,_75): 0.0\n",
      "tcharge_(1,_76): 0.0\n",
      "tcharge_(1,_77): 0.0\n",
      "tcharge_(1,_78): 0.0\n",
      "tcharge_(1,_79): 0.0\n",
      "tcharge_(1,_8): 0.0\n",
      "tcharge_(1,_80): 0.0\n",
      "tcharge_(1,_81): 0.0\n",
      "tcharge_(1,_82): 0.0\n",
      "tcharge_(1,_83): 0.0\n",
      "tcharge_(1,_84): 0.0\n",
      "tcharge_(1,_85): 0.0\n",
      "tcharge_(1,_86): 0.0\n",
      "tcharge_(1,_87): 0.0\n",
      "tcharge_(1,_88): 0.0\n",
      "tcharge_(1,_89): 0.0\n",
      "tcharge_(1,_9): 0.0\n",
      "tcharge_(1,_90): 0.0\n",
      "tcharge_(1,_91): 0.0\n",
      "tcharge_(1,_92): 0.0\n",
      "tcharge_(1,_93): 0.0\n",
      "tcharge_(1,_94): 0.0\n",
      "tcharge_(1,_95): 0.0\n",
      "zcharge_(0,_0): 5500.0\n",
      "zcharge_(0,_1): 5500.0\n",
      "zcharge_(1,_0): 5500.0\n",
      "zcharge_(1,_1): 5500.0\n",
      "zcharge_(1,_2): 5500.0\n"
     ]
    }
   ],
   "source": [
    "model = LpProblem(name='laadpaalstudie', sense=LpMinimize)\n",
    "Z = [2,3] #number of times the car is at the chargingstation within simulation period (T), Z = len(Tz)\n",
    "T = 24*4 #timesteps in hour resolution\n",
    "cap = 20000\n",
    "C = 2 #number of charging stations\n",
    "# Tz = [[(1*4,6*4),(18*4,22*4)], [(3*4,4*4),(10*4,15*4),(19*4,22*4)]]\n",
    "# demand = [[3000*4,5000*4],[1000*4,2000*4,6000*4]] #in Watt-kwartier\n",
    "priority = [1,1] #According to users: least priority gets 1, next 2, next 3,... len(priority) = C\n",
    "\n",
    "\n",
    "zcharge = LpVariable.dicts('zcharge', [(c,z) for c in range(C) for z in range(Z[c])], lowBound=0, upBound= max_charge_rate)#[max_charge_rates[c] for c in range(C)])\n",
    "tcharge = LpVariable.dicts('tcharge', [(c,t) for c in range(C) for t in range(T)], lowBound=0, upBound=max_charge_rate)#[max_charge_rates[c] for c in range(C)])\n",
    "\n",
    "obj = lpSum([(demand[c][z] - zcharge[(c,z)])*priority[c] for c in range(C) for z in range(Z[c])])\n",
    "model += obj\n",
    "\n",
    "\n",
    "for t in range(T):\n",
    "    model += (lpSum(tcharge[(c,t)] for c in range(C)) + np.array(df['Gemeenschappelijk verbruik in kW'].iloc[t])*1000 - np.array(df['Productie in kW'].iloc[t])*1000 <= cap)\n",
    "    \n",
    "for c in range(C):\n",
    "    for z in range(Z[c]):\n",
    "        model += (zcharge[(c,z)] == lpSum([tcharge[(c,t)] for t in range(Tz[c][z][0],Tz[c][z][1])]))\n",
    "\n",
    "        model += (zcharge[(c,z)] <= demand[c][z])\n",
    "\n",
    "\n",
    "\n",
    "# Solve the problem\n",
    "status = model.solve(use_mps=False)\n",
    "\n",
    "print(f\"status: {model.status}, {LpStatus[model.status]}\")\n",
    "\n",
    "\n",
    "print(f\"objective: {model.objective.value()}\")\n",
    "\n",
    "\n",
    "for var in model.variables():\n",
    "    print(f\"{var.name}: {var.value()}\")\n",
    "\n"
   ]
  },
  {
   "cell_type": "code",
   "execution_count": null,
   "metadata": {},
   "outputs": [],
   "source": []
  },
  {
   "cell_type": "code",
   "execution_count": null,
   "metadata": {},
   "outputs": [],
   "source": [
    "# zcharge_arr = np.zeros([(c,z) for c in range(C) for z in range(Z[c])])\n",
    "tcharge_arr = np.zeros((C,T))\n",
    "for c in range(C):\n",
    "    for t in range(T):\n",
    "        tcharge_arr[(c,t)] = tcharge[(c,t)].value()\n",
    "    # for z in range(Z[c]):\n",
    "    #     zcharge_arr[(c,z)] = zcharge[(c,z)].value()"
   ]
  },
  {
   "cell_type": "code",
   "execution_count": null,
   "metadata": {},
   "outputs": [
    {
     "name": "stdout",
     "output_type": "stream",
     "text": [
      "96\n"
     ]
    }
   ],
   "source": [
    "print(T)"
   ]
  },
  {
   "cell_type": "code",
   "execution_count": null,
   "metadata": {},
   "outputs": [
    {
     "name": "stdout",
     "output_type": "stream",
     "text": [
      "[0. 0. 0. 0. 0. 0. 0. 0. 1. 1. 1. 1. 1. 1. 1. 1. 1. 1. 1. 1. 1. 1. 1. 1.\n",
      " 1. 1. 1. 1. 1. 1. 1. 1. 1. 1. 1. 1. 1. 1. 1. 1. 0. 0. 0. 0. 0. 0. 0. 0.\n",
      " 0. 0. 0. 0. 0. 0. 0. 0. 0. 0. 0. 0. 0. 0. 0. 0. 0. 0. 0. 0. 1. 1. 1. 1.\n",
      " 1. 1. 1. 1. 1. 1. 1. 1. 0. 0. 0. 0. 0. 0. 0. 0. 0. 0. 0. 0. 0. 0. 0. 0.]\n"
     ]
    }
   ],
   "source": [
    "print(np.array(df.Beschikbaarheidsprofiel1.iloc[:96]))"
   ]
  },
  {
   "cell_type": "code",
   "execution_count": null,
   "metadata": {},
   "outputs": [
    {
     "data": {
      "text/plain": [
       "<matplotlib.legend.Legend at 0x2bf6029dcc0>"
      ]
     },
     "execution_count": 124,
     "metadata": {},
     "output_type": "execute_result"
    },
    {
     "data": {
      "image/png": "[encoded data removed]",
      "text/plain": [
       "<Figure size 640x480 with 1 Axes>"
      ]
     },
     "metadata": {},
     "output_type": "display_data"
    }
   ],
   "source": [
    "plt.figure()\n",
    "plt.plot(np.array(df['Gemeenschappelijk verbruik in kW'].iloc[0:T])*1000)\n",
    "plt.plot(np.array(df['Productie in kW'].iloc[0:T])*1000)\n",
    "plt.plot(tcharge_arr[0])\n",
    "# plt.plot(np.array(df.Beschikbaarheidsprofiel1.iloc[:96])*cap)\n",
    "plt.plot(tcharge_arr[1])\n",
    "# plt.plot(np.array(df.Beschikbaarheidsprofiel2.iloc[:96])*cap)\n",
    "plt.plot(tcharge_arr[0] + tcharge_arr[1] + np.array(df['Gemeenschappelijk verbruik in kW'].iloc[0:T])*1000 - np.array(df['Productie in kW'].iloc[0:T])*1000)\n",
    "plt.legend(['Gemeenschappelijk verbruik', 'Productie', 'Laadprofiel 1', 'Laadprofiel 2', 'Afname net'], loc='upper right', bbox_to_anchor=(1.5, 1))\n",
    "#, 'Beschikbaarheid 1','Beschikbaarheid 2'\n",
    "\n",
    "\n",
    "# for c in range(C):\n",
    "#     plt.plot(tcharge_arr[c])\n",
    "#     # plt.plot(zcharge_arr[c])\n",
    "# print(tcharge_arr[0], tcharge_arr[1])\n",
    "# # print(zcharge_arr[1])"
   ]
  }
 ],
 "metadata": {
  "kernelspec": {
   "display_name": "scoptvision",
   "language": "python",
   "name": "python3"
  },
  "language_info": {
   "codemirror_mode": {
    "name": "ipython",
    "version": 3
   },
   "file_extension": ".py",
   "mimetype": "text/x-python",
   "name": "python",
   "nbconvert_exporter": "python",
   "pygments_lexer": "ipython3",
   "version": "3.10.10"
  },
  "orig_nbformat": 4
 },
 "nbformat": 4,
 "nbformat_minor": 2
}
