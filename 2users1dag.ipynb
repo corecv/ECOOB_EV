{
 "cells": [
  {
   "cell_type": "code",
   "execution_count": 1,
   "metadata": {},
   "outputs": [],
   "source": [
    "from pulp import LpMinimize, LpProblem, LpStatus, lpSum, LpVariable\n",
    "import numpy as np\n",
    "import pandas as pd\n",
    "from matplotlib import pyplot as plt\n",
    "from datetime import datetime, timedelta"
   ]
  },
  {
   "cell_type": "code",
   "execution_count": 2,
   "metadata": {},
   "outputs": [],
   "source": [
    "# T = 24\n",
    "# availability_user1 = np.array([0,0,1,1,0,0,0,0,0,0,0,0,0,0,0,0,0,0,1,1,0,0,0,0])\n",
    "# assert len(availability_user1) == T\n",
    "\n",
    "\n",
    "max_charge_rate = float('inf')\n",
    "offtake_price = 0.5e-3\n"
   ]
  },
  {
   "cell_type": "code",
   "execution_count": 3,
   "metadata": {},
   "outputs": [
    {
     "data": {
      "text/plain": [
       "2"
      ]
     },
     "execution_count": 3,
     "metadata": {},
     "output_type": "execute_result"
    }
   ],
   "source": [
    "a = [[1,2,3],[4,5,6,7]]\n",
    "a[0][1]"
   ]
  },
  {
   "cell_type": "code",
   "execution_count": null,
   "metadata": {},
   "outputs": [
    {
     "ename": "",
     "evalue": "",
     "output_type": "error",
     "traceback": [
      "\u001b[1;31mRunning cells with 'sabine' requires the ipykernel package.\n",
      "\u001b[1;31mRun the following command to install 'ipykernel' into the Python environment. \n",
      "\u001b[1;31mCommand: 'conda install -n sabine ipykernel --update-deps --force-reinstall'"
     ]
    }
   ],
   "source": [
    "# Dom laden: op elk tijdsstip t vraagt elke auto die wilt laden, max vermogen. Als boven cap: verschil met cap/#ladende auto's aftrekken van geladen vermogen.\n",
    "time = 24\n",
    "cap = 10\n",
    "#user[chargerate,maxcharge]\n",
    "users = [\n",
    "\n",
    "{\"user\":[5,50],\"loadprof\":[0,0,1,1,0,0,0,0,0,0,0,0,0,0,0,0,0,0,1,1,0,0,0,0],\"demandprof\": [30,40]},  #user = [maxrate,maxcapacity]\n",
    "{\"user\":[4,70],\"loadprof\":[1,0,0,1,0,0,0,0,0,0,1,1,1,1,1,0,0,0,1,1,1,0,0,1],\"demandprof\": [10,20,60]}\n",
    "]\n",
    "\n",
    "\n",
    "def dumpProfile(userlist,timesteps):\n",
    "    newprofs = [[] for user in range(userlist)]\n",
    "    for t in range(timesteps):\n",
    "        print(t)\n",
    "        ls = 0\n",
    "        for user in userlist:\n",
    "            profile = newprofs[userlist.index(user)] \n",
    "            if user.get('loadprof')[t] == 0:\n",
    "                profile.append(0)\n",
    "            elif user.get('loadprof')[t] == 1:\n",
    "                profile.append(user.get('user')[0])\n",
    "\n",
    "    print(newprofs)\n",
    "    print(len(newprofs[0]))\n",
    "\n",
    "dumpProfile(users,time)\n",
    "\n",
    "\n",
    "\n",
    "\n",
    "    \n",
    "\n",
    "\n"
   ]
  },
  {
   "cell_type": "code",
   "execution_count": 4,
   "metadata": {},
   "outputs": [
    {
     "name": "stdout",
     "output_type": "stream",
     "text": [
      "status: 1, Optimal\n",
      "objective: 7000.0\n",
      "tcharge_(0,_0): 0.0\n",
      "tcharge_(0,_1): 0.0\n",
      "tcharge_(0,_10): 0.0\n",
      "tcharge_(0,_11): 0.0\n",
      "tcharge_(0,_12): 0.0\n",
      "tcharge_(0,_13): 0.0\n",
      "tcharge_(0,_14): 0.0\n",
      "tcharge_(0,_15): 0.0\n",
      "tcharge_(0,_16): 0.0\n",
      "tcharge_(0,_17): 0.0\n",
      "tcharge_(0,_18): 2000.0\n",
      "tcharge_(0,_19): 0.0\n",
      "tcharge_(0,_2): 2000.0\n",
      "tcharge_(0,_20): 0.0\n",
      "tcharge_(0,_21): 0.0\n",
      "tcharge_(0,_22): 0.0\n",
      "tcharge_(0,_23): 0.0\n",
      "tcharge_(0,_3): 0.0\n",
      "tcharge_(0,_4): 0.0\n",
      "tcharge_(0,_5): 0.0\n",
      "tcharge_(0,_6): 0.0\n",
      "tcharge_(0,_7): 0.0\n",
      "tcharge_(0,_8): 0.0\n",
      "tcharge_(0,_9): 0.0\n",
      "tcharge_(1,_0): 0.0\n",
      "tcharge_(1,_1): 0.0\n",
      "tcharge_(1,_10): 0.0\n",
      "tcharge_(1,_11): 0.0\n",
      "tcharge_(1,_12): 0.0\n",
      "tcharge_(1,_13): 0.0\n",
      "tcharge_(1,_14): 2000.0\n",
      "tcharge_(1,_15): 0.0\n",
      "tcharge_(1,_16): 0.0\n",
      "tcharge_(1,_17): 0.0\n",
      "tcharge_(1,_18): 0.0\n",
      "tcharge_(1,_19): 2000.0\n",
      "tcharge_(1,_2): 0.0\n",
      "tcharge_(1,_20): 2000.0\n",
      "tcharge_(1,_21): 2000.0\n",
      "tcharge_(1,_22): 0.0\n",
      "tcharge_(1,_23): 0.0\n",
      "tcharge_(1,_3): 2000.0\n",
      "tcharge_(1,_4): 0.0\n",
      "tcharge_(1,_5): 0.0\n",
      "tcharge_(1,_6): 0.0\n",
      "tcharge_(1,_7): 0.0\n",
      "tcharge_(1,_8): 0.0\n",
      "tcharge_(1,_9): 0.0\n",
      "zcharge_(0,_0): 2000.0\n",
      "zcharge_(0,_1): 2000.0\n",
      "zcharge_(1,_0): 2000.0\n",
      "zcharge_(1,_1): 2000.0\n",
      "zcharge_(1,_2): 6000.0\n"
     ]
    }
   ],
   "source": [
    "model = LpProblem(name='laadpaalstudie', sense=LpMinimize)\n",
    "Z = [2,3] #number of times the car is at the chargingstation within simulation period (T), Z = len(Tz)\n",
    "T = 24 #timesteps in hour resolution\n",
    "cap = 2000\n",
    "C = 2 #number of charging stations\n",
    "Tz = [[(2,4),(18,20)], [(3,4),(10,15),(19,22)]]\n",
    "demand = [[3000,5000],[1000,2000,6000]]\n",
    "priority = [1,1] #According to users: least priority gets 1, next 2, next 3,... len(priority) = C\n",
    "\n",
    "\n",
    "zcharge = LpVariable.dicts('zcharge', [(c,z) for c in range(C) for z in range(Z[c])], lowBound=0, upBound=max_charge_rate)\n",
    "tcharge = LpVariable.dicts('tcharge', [(c,t) for c in range(C) for t in range(T)], lowBound=0, upBound=max_charge_rate)\n",
    "\n",
    "obj = lpSum([(demand[c][z] - zcharge[(c,z)])*priority[c] for c in range(C) for z in range(Z[c])])\n",
    "model += obj\n",
    "\n",
    "\n",
    "for t in range(T):\n",
    "    model += (lpSum(tcharge[(c,t)] for c in range(C)) <= cap)\n",
    "    \n",
    "for c in range(C):\n",
    "    for z in range(Z[c]):\n",
    "        model += (zcharge[(c,z)] == lpSum([tcharge[(c,t)] for t in range(Tz[c][z][0],Tz[c][z][1])]))\n",
    "\n",
    "        model += (zcharge[(c,z)] <= demand[c][z])\n",
    "\n",
    "\n",
    "\n",
    "# Solve the problem\n",
    "status = model.solve(use_mps=False)\n",
    "\n",
    "print(f\"status: {model.status}, {LpStatus[model.status]}\")\n",
    "\n",
    "\n",
    "print(f\"objective: {model.objective.value()}\")\n",
    "\n",
    "\n",
    "for var in model.variables():\n",
    "    print(f\"{var.name}: {var.value()}\")\n",
    "\n"
   ]
  },
  {
   "cell_type": "code",
   "execution_count": 5,
   "metadata": {},
   "outputs": [],
   "source": [
    "# zcharge_arr = np.zeros([(c,z) for c in range(C) for z in range(Z[c])])\n",
    "tcharge_arr = np.zeros((C,T))\n",
    "for c in range(C):\n",
    "    for t in range(T):\n",
    "        tcharge_arr[(c,t)] = tcharge[(c,t)].value()\n",
    "    # for z in range(Z[c]):\n",
    "    #     zcharge_arr[(c,z)] = zcharge[(c,z)].value()"
   ]
  },
  {
   "cell_type": "code",
   "execution_count": 6,
   "metadata": {},
   "outputs": [
    {
     "name": "stdout",
     "output_type": "stream",
     "text": [
      "[   0.    0. 2000.    0.    0.    0.    0.    0.    0.    0.    0.    0.\n",
      "    0.    0.    0.    0.    0.    0. 2000.    0.    0.    0.    0.    0.] [   0.    0.    0. 2000.    0.    0.    0.    0.    0.    0.    0.    0.\n",
      "    0.    0. 2000.    0.    0.    0.    0. 2000. 2000. 2000.    0.    0.]\n"
     ]
    },
    {
     "data": {
      "image/png": "[encoded data removed]",
      "text/plain": [
       "<Figure size 640x480 with 1 Axes>"
      ]
     },
     "metadata": {},
     "output_type": "display_data"
    }
   ],
   "source": [
    "for c in range(C):\n",
    "    plt.plot(tcharge_arr[c])\n",
    "    # plt.plot(zcharge_arr[c])\n",
    "print(tcharge_arr[0], tcharge_arr[1])\n",
    "# print(zcharge_arr[1])"
   ]
  },
  {
   "cell_type": "code",
   "execution_count": 7,
   "metadata": {},
   "outputs": [
    {
     "name": "stdout",
     "output_type": "stream",
     "text": [
      "status: 1, Optimal\n",
      "objective: 31000.0\n",
      "G1_0: 0.0\n",
      "G1_1: 0.0\n",
      "G2_0: 500.0\n",
      "G2_1: 500.0\n"
     ]
    }
   ],
   "source": [
    "# Create the model\n",
    "smodel = LpProblem(name=\"small-problem\", sense=LpMinimize)\n",
    "\n",
    "L = 500\n",
    "G = np.array([450, 300, 400])\n",
    "\n",
    "# # Initialize the decision variables\n",
    "# x = LpVariable(name=\"x\", lowBound=0)\n",
    "# y = LpVariable(name=\"y\", lowBound=0)\n",
    "\n",
    "x0 = LpVariable.dicts('G1', range(2), lowBound=0)\n",
    "x1 = LpVariable.dicts('G2', range(2), lowBound=0)\n",
    "\n",
    "\n",
    "# Add the constraints to the model\n",
    "T=2\n",
    "for t in range(T):\n",
    "    smodel += (x0[t] + x1[t] == L)\n",
    "    smodel += (x0[t] <= G)\n",
    "    smodel += (x1[t] <= G)\n",
    "\n",
    "# Add the objective function to the model\n",
    "obj_func = 0\n",
    "\n",
    "for t in range(T):\n",
    "    C0 = 200+50*x0[t]\n",
    "    C1 = 300+30*x1[t]\n",
    "    obj_func += C0 + C1\n",
    "smodel += obj_func\n",
    "\n",
    "# # Add the objective function to the model\n",
    "# model += lpSum([x, 2 * y])\n",
    "\n",
    "# Solve the problem\n",
    "status = smodel.solve()\n",
    "\n",
    "print(f\"status: {smodel.status}, {LpStatus[smodel.status]}\")\n",
    "\n",
    "\n",
    "print(f\"objective: {smodel.objective.value()}\")\n",
    "\n",
    "\n",
    "for var in smodel.variables():\n",
    "    print(f\"{var.name}: {var.value()}\")\n",
    "\n",
    "\n",
    "# for name, constraint in smodel.constraints.items():\n",
    "#     print(f\"{name}: {constraint.value()}\")"
   ]
  }
 ],
 "metadata": {
  "kernelspec": {
   "display_name": "scoptvision",
   "language": "python",
   "name": "python3"
  },
  "language_info": {
   "codemirror_mode": {
    "name": "ipython",
    "version": 3
   },
   "file_extension": ".py",
   "mimetype": "text/x-python",
   "name": "python",
   "nbconvert_exporter": "python",
   "pygments_lexer": "ipython3",
   "version": "3.7.12"
  },
  "orig_nbformat": 4
 },
 "nbformat": 4,
 "nbformat_minor": 2
}
